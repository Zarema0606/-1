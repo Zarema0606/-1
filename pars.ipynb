{
 "cells": [
  {
   "cell_type": "markdown",
   "metadata": {},
   "source": [
    "Скачиваем библиотеку через командную строку"
   ]
  },
  {
   "cell_type": "code",
   "execution_count": null,
   "metadata": {},
   "outputs": [],
   "source": [
    "%pip install ipykernel"
   ]
  },
  {
   "cell_type": "markdown",
   "metadata": {},
   "source": [
    "Клонируем библиотеку "
   ]
  },
  {
   "cell_type": "code",
   "execution_count": null,
   "metadata": {},
   "outputs": [],
   "source": [
    "# !git clone  \n"
   ]
  },
  {
   "cell_type": "markdown",
   "metadata": {},
   "source": [
    "Устанавливаем биботеки"
   ]
  },
  {
   "cell_type": "code",
   "execution_count": null,
   "metadata": {},
   "outputs": [],
   "source": [
    "%pip install requests\n",
    "%pip install pandas\n",
    "%pip install tqdm\n",
    "%pip install numpy"
   ]
  },
  {
   "cell_type": "markdown",
   "metadata": {},
   "source": [
    "Импортируем биботеки"
   ]
  },
  {
   "cell_type": "code",
   "execution_count": null,
   "metadata": {},
   "outputs": [],
   "source": [
    "import json\n",
    "import requests\n",
    "import hashlib\n",
    "import pandas as pd\n",
    "from datetime import datetime\n",
    "from urllib.parse import urlsplit\n",
    "import numpy as np\n",
    "from tqdm.notebook import tqdm"
   ]
  },
  {
   "cell_type": "markdown",
   "metadata": {},
   "source": [
    "Добавляем эмуляцию активности с другого устройства чтобы не забанило"
   ]
  },
  {
   "cell_type": "code",
   "execution_count": null,
   "metadata": {},
   "outputs": [],
   "source": [
    "class DomClickApi:\n",
    "    def __init__(self):\n",
    "        self.session = requests.Session()\n",
    "        self.session.headers.update({\"X-Service\": \"true\",\n",
    "                                     \"Connection\": \"Keep-Alive\",\n",
    "                                     \"User-Agent\": \"Android; 12; Google; google_pixel_5; 8.72.0; 8720006; ; NONAUTH\"\n",
    "                                     })\n",
    "\n",
    "        # Инициализация (получение cookies)\n",
    "        self.get(\"https://api.domclick.ru/core/no-auth-zone/api/v1/ensure_session\")\n",
    "        self.get(\"https://ipoteka.domclick.ru/mobile/v1/feature_toggles\")\n",
    "\n",
    "    def get(self, url, **kwargs):\n",
    "        self.__update_headers(url, **kwargs)\n",
    "        result = self.session.get(url, **kwargs)\n",
    "        print(self.session.cookies.get_dict())\n",
    "        return result\n",
    "\n",
    "    def __update_headers(self, url, **kwargs):\n",
    "        url = self.__get_prepared_url(url, **kwargs)\n",
    "        sault = \"ad65f331b02b90d868cbdd660d82aba0\"\n",
    "        timestamp = str(int(datetime.now().timestamp()))\n",
    "        encoded = (sault + url + timestamp).encode(\"UTF-8\")\n",
    "        h = hashlib.md5(encoded).hexdigest()\n",
    "        self.session.headers.update({\"Timestamp\": timestamp,\n",
    "                                     \"Hash\": \"v1:\" + h,\n",
    "                                     })\n",
    "\n",
    "    def __get_prepared_url(self, url, **kwargs):\n",
    "        p = requests.models.PreparedRequest()\n",
    "        p.prepare(method=\"GET\", url=url, **kwargs)\n",
    "        return p.url\n",
    "\n",
    "\n",
    "def pprint_json(json_str):\n",
    "    try:\n",
    "        json_object = json.loads(json_str)\n",
    "        json_formatted_str = json.dumps(json_object, indent=2, ensure_ascii=False).encode('utf8')\n",
    "        print(json_formatted_str.decode())\n",
    "    except:\n",
    "        print(json_str)\n"
   ]
  },
  {
   "cell_type": "markdown",
   "metadata": {},
   "source": [
    "Добавляем ссылки откуда будем парсить"
   ]
  },
  {
   "cell_type": "code",
   "execution_count": null,
   "metadata": {},
   "outputs": [],
   "source": [
    "offers_url = 'https://offers-service.domclick.ru/research/v5/offers/'\n",
    "count_url = 'https://offers-service.domclick.ru/research/v5/offers/count/'\n",
    "\n",
    "dca = DomClickApi()"
   ]
  },
  {
   "cell_type": "markdown",
   "metadata": {},
   "source": [
    "Настройка собираемой информации, размера собираемой информации\n",
    "Добавление цикла, который отсеивает ошибки в данных и слишком большие объявления (при отсутсвии данные будут слишком большие, таблица не сможет их вписать)"
   ]
  },
  {
   "cell_type": "code",
   "execution_count": null,
   "metadata": {},
   "outputs": [],
   "source": [
    "res = dca.get(count_url, params={\n",
    "    \"address\": \"1d1463ae-c80f-4d19-9331-a1b68a85b553\",  # UUID региона\n",
    "    \"deal_type\": \"sale\",  # Тип сделки: Купить\n",
    "    \"category\": \"living\",  # Категория: Жилье\n",
    "    \"offer_type\": [\"flat\", \"layout\"],  # Тип недвижимости: квартира (вторичка/новостройка)\n",
    "    \"rooms\": [\"1\", \"2\", \"3\", \"4\"],  # Кол-во комнат: 1, 2, 3, 4\n",
    "    \"area__gte\": 1,  # Площадь от 1 кв.м\n",
    "    \"floor__gte\": 1,  # Этаж от 1\n",
    "    \"sort\": \"qi\",  # Сортировка по рекомендуемым\n",
    "    \"sort_dir\": \"desc\",  # По убыванию\n",
    "    \"offset\": 0,\n",
    "    \"limit\": 30  # Лимит выборки\n",
    "})\n",
    "print(\"RES:\", res)\n",
    "print(res.text)\n",
    "pprint_json(res.text)\n",
    "\n",
    "count_obj = json.loads(res.text)\n",
    "total = count_obj[\"pagination\"][\"total\"]\n",
    "\n",
    "# Инициализация списка для сохранения данных предложений\n",
    "offers_list = []\n",
    "offset = 0\n",
    "max_offset = 10000  # Установлен лимит для offset\n",
    "\n",
    "while offset < total:\n",
    "    try:\n",
    "        if offset > max_offset:\n",
    "            print(f\"Offset {offset} превышает допустимый предел. Пропуск...\")\n",
    "            offset += 20\n",
    "            continue\n",
    "\n",
    "        res = dca.get(offers_url, params={\n",
    "            \"address\": \"1d1463ae-c80f-4d19-9331-a1b68a85b553\",\n",
    "            \"deal_type\": \"sale\",\n",
    "            \"category\": \"living\",\n",
    "            \"offer_type\": [\"flat\", \"layout\"],\n",
    "            \"rooms\": [\"1\", \"2\", \"3\", \"4\"],\n",
    "            \"area__gte\": 1,\n",
    "            \"floor__gte\": 1,\n",
    "            \"sort\": \"qi\",\n",
    "            \"sort_dir\": \"desc\",\n",
    "            \"offset\": offset,\n",
    "            \"limit\": 20,  # Лимит уменьшен\n",
    "        })\n",
    "        print(\"RES:\", res)\n",
    "        pprint_json(res.text)\n",
    "\n",
    "        offers_obj = json.loads(res.text)\n",
    "\n",
    "        # Пропускаем объявления, если ключи 'result' или 'items' отсутствуют\n",
    "        if 'result' not in offers_obj or 'items' not in offers_obj['result']:\n",
    "            print(f\"Ключ 'items' или 'result' отсутствует в ответе: {offers_obj}\")\n",
    "            offset += 20\n",
    "            continue\n",
    "\n",
    "        offers_list.extend(offers_obj['result']['items'])\n",
    "        total = offers_obj[\"pagination\"][\"total\"]\n",
    "        print(f\"{offset}/{total}\")\n",
    "        offset += 20  # Увеличиваем offset для следующей страницы\n",
    "\n",
    "    except Exception as e:\n",
    "        print(f\"Ошибка при обработке запроса: {e}\")\n",
    "        offset += 20  # Пропускаем текущий запрос и продолжаем"
   ]
  },
  {
   "cell_type": "markdown",
   "metadata": {},
   "source": [
    "Запись данных в таблицу"
   ]
  },
  {
   "cell_type": "code",
   "execution_count": null,
   "metadata": {},
   "outputs": [],
   "source": [
    "# Преобразование списка предложений в DataFrame\n",
    "if offers_list:\n",
    "    exel_export = pd.DataFrame(offers_list)\n",
    "\n",
    "    # Определяем нужные колонки (проверьте, что все ключи существуют в данных предложений)\n",
    "    columns = ['renovation', 'placement_type', 'has_big_check', 'offer_type',\n",
    "               'discount_status', 'developer', 'complex', 'trade_in', 'published_dt',\n",
    "               'layout_id', 'min_rate', 'status', 'photos', 'chat_available',\n",
    "               'payment_order_id', 'id', 'object_info', 'backwash', 'source',\n",
    "               'address', 'offers_count', 'slug', 'is_auction', 'house', 'description',\n",
    "               'price_info', 'deal_type', 'last_price_history_state', 'ipoteka_rate',\n",
    "               'monthly_payment', 'legal_options', 'seo_info', 'has_advance_payment',\n",
    "               'updated_dt', 'seo', 'pessimization', 'duplicates_offer_count',\n",
    "               'is_placement_paid', 'seller', 'assignment_sale', 'tariff_options',\n",
    "               'category', 'online_show', 'is_exclusive', 'flat_complex',\n",
    "               'rooms_offered', 'profit_badge', 'land', 'subways', 'square_price']\n",
    "\n",
    "    available_columns = [col for col in columns if col in exel_export.columns]\n",
    "\n",
    "    if not available_columns:\n",
    "        print(\"Нет совпадающих колонок для экспорта в DataFrame.\")\n",
    "    else:\n",
    "        selected_columns = exel_export[available_columns]\n",
    "        selected_columns.to_csv('Domparsing.csv', mode='a', header=False, index=False)\n",
    "else:\n",
    "    print(\"Нет данных для экспорта.\")"
   ]
  },
  {
   "cell_type": "markdown",
   "metadata": {},
   "source": [
    "Проверка записи информации"
   ]
  },
  {
   "cell_type": "code",
   "execution_count": null,
   "metadata": {},
   "outputs": [],
   "source": [
    "exel_export"
   ]
  },
  {
   "cell_type": "markdown",
   "metadata": {},
   "source": [
    "Проверка созданных колонок"
   ]
  },
  {
   "cell_type": "code",
   "execution_count": null,
   "metadata": {},
   "outputs": [],
   "source": [
    "exel_export.columns"
   ]
  },
  {
   "cell_type": "markdown",
   "metadata": {},
   "source": [
    "Поиск нахождения информации в массивах (в данном случаи ищем метро, перебирая названия колонок выше)"
   ]
  },
  {
   "cell_type": "code",
   "execution_count": null,
   "metadata": {},
   "outputs": [],
   "source": [
    "for el in exel_export['seo_info']:\n",
    "    print(el)\n",
    "    break"
   ]
  },
  {
   "cell_type": "markdown",
   "metadata": {},
   "source": [
    "Колонку с информацией нашли, проверяем данные"
   ]
  },
  {
   "cell_type": "code",
   "execution_count": null,
   "metadata": {},
   "outputs": [],
   "source": [
    "exel_export['seo_info']"
   ]
  },
  {
   "cell_type": "markdown",
   "metadata": {},
   "source": [
    "Определяем, сколько ключей (параметров) есть в словаре, находящемся в столбце"
   ]
  },
  {
   "cell_type": "code",
   "execution_count": null,
   "metadata": {},
   "outputs": [],
   "source": [
    "len(list(exel_export['seo_info'])[0].keys())"
   ]
  },
  {
   "cell_type": "markdown",
   "metadata": {},
   "source": [
    "Достаем параметры из словаря"
   ]
  },
  {
   "cell_type": "code",
   "execution_count": null,
   "metadata": {},
   "outputs": [],
   "source": [
    "filtered_data = [\n",
    "    {'subways': ', '.join([station.get('title', '') for station in item['subways']])} \n",
    "    if isinstance(item, dict) and 'subways' in item else {'subways': None}\n",
    "    for item in exel_export['seo_info']\n",
    "]\n",
    "\n",
    "exel_export3 = pd.DataFrame(filtered_data)\n",
    "\n",
    "print(exel_export3)\n"
   ]
  },
  {
   "cell_type": "markdown",
   "metadata": {},
   "source": [
    "Далее по аналогии с метро"
   ]
  },
  {
   "cell_type": "code",
   "execution_count": null,
   "metadata": {},
   "outputs": [],
   "source": [
    "len(list(exel_export['price_info'])[0].keys())"
   ]
  },
  {
   "cell_type": "code",
   "execution_count": null,
   "metadata": {},
   "outputs": [],
   "source": [
    "# for el in range(len(exel_export)):\n",
    "#     if len(list(exel_export['price_info'])[el].keys())!= 5:\n",
    "#         print(list(exel_export['price_info'])[el].keys())"
   ]
  },
  {
   "cell_type": "code",
   "execution_count": null,
   "metadata": {},
   "outputs": [],
   "source": [
    "\n",
    "filtered_data = [\n",
    "    {'price': item.get('price'), 'square_price': item.get('square_price')}\n",
    "    for item in exel_export['price_info']\n",
    "]\n",
    "\n",
    "exel_export1 = pd.DataFrame(filtered_data)\n"
   ]
  },
  {
   "cell_type": "code",
   "execution_count": null,
   "metadata": {},
   "outputs": [],
   "source": [
    "len(list(exel_export['object_info'])[0].keys())"
   ]
  },
  {
   "cell_type": "code",
   "execution_count": null,
   "metadata": {},
   "outputs": [],
   "source": [
    "\n",
    "filtered_data = [\n",
    "    {'area': item.get('area'), 'rooms': item.get('rooms')}\n",
    "    for item in exel_export['object_info']\n",
    "]\n",
    "\n",
    "exel_export2 = pd.DataFrame(filtered_data)"
   ]
  },
  {
   "cell_type": "code",
   "execution_count": null,
   "metadata": {},
   "outputs": [],
   "source": [
    "len(list(exel_export['house'])[0].keys())"
   ]
  },
  {
   "cell_type": "code",
   "execution_count": null,
   "metadata": {},
   "outputs": [],
   "source": [
    "filtered_data = [\n",
    "    {'floors': item.get('floors')}\n",
    "    for item in exel_export['house']\n",
    "]\n",
    "\n",
    "exel_export4 = pd.DataFrame(filtered_data)\n"
   ]
  },
  {
   "cell_type": "markdown",
   "metadata": {},
   "source": [
    "Проверяем извлеченные колонки"
   ]
  },
  {
   "cell_type": "code",
   "execution_count": null,
   "metadata": {},
   "outputs": [],
   "source": [
    "exel_export4"
   ]
  },
  {
   "cell_type": "code",
   "execution_count": null,
   "metadata": {},
   "outputs": [],
   "source": [
    "exel_export1"
   ]
  },
  {
   "cell_type": "code",
   "execution_count": null,
   "metadata": {},
   "outputs": [],
   "source": [
    "exel_export2"
   ]
  },
  {
   "cell_type": "markdown",
   "metadata": {},
   "source": [
    "Все отлично, объединяем все в один дата фрэйм "
   ]
  },
  {
   "cell_type": "code",
   "execution_count": null,
   "metadata": {},
   "outputs": [],
   "source": [
    "full = pd.concat([exel_export, exel_export1, exel_export2, exel_export3, exel_export4], axis=1)\n",
    "full"
   ]
  },
  {
   "cell_type": "markdown",
   "metadata": {},
   "source": [
    "Удаляем не нужные колонки и проверяем наполненность оставшихся (а так же узнаем тип данных)"
   ]
  },
  {
   "cell_type": "code",
   "execution_count": null,
   "metadata": {},
   "outputs": [],
   "source": [
    "full = full.drop(['photos', 'id', 'developer', 'seo', 'slug', 'trade_in', 'is_auction', 'has_big_check', 'video', 'is_placement_paid', 'is_exclusive', 'pessimization', 'category', 'trade_in', 'status', 'duplicates_offer_count', 'layout_id', 'rooms_offered', 'profit_badge', 'seo_info', 'land', 'online_show', 'source', 'flat_complex', 'complex', 'min_rate', 'backwash', 'offers_count', 'renovation', 'placement_type', 'tariff_options', 'seller', 'ipoteka_rate', 'assignment_sale', 'last_price_history_state', 'updated_dt', 'legal_options', 'discount_status', 'payment_order_id', 'deal_type', 'house', 'published_dt', 'chat_available', 'has_advance_payment', 'object_info', 'price_info', 'address', 'offer_type'], axis=1)\n",
    "full.info()  "
   ]
  },
  {
   "cell_type": "code",
   "execution_count": null,
   "metadata": {},
   "outputs": [],
   "source": [
    "# Проверка на дубликаты по колонкам 'price', 'area', 'rooms'\n",
    "duplicates = full.duplicated(subset=['price', 'area', 'rooms', 'monthly_payment', 'description', 'subways', 'floors'])\n",
    "print(f\"Количество дубликатов: {duplicates.sum()}\")\n",
    "\n",
    "# Вывод самих дубликатов\n",
    "print(full[duplicates])\n",
    "\n",
    "# Удаление дубликатов\n",
    "full = full.drop_duplicates(subset=['price', 'area', 'rooms'], keep='first')\n",
    "\n",
    "# Проверка, что дубликаты удалены\n",
    "print(f\"Количество строк после удаления дубликатов: {len(full)}\")\n"
   ]
  },
  {
   "cell_type": "code",
   "execution_count": null,
   "metadata": {},
   "outputs": [],
   "source": [
    "median_area = full['area'].median()\n",
    "full.loc[full['area'] > 400, 'area'] = median_area\n",
    "full.loc[full['area'] < 0, 'area'] = median_area\n",
    "\n",
    "full\n"
   ]
  },
  {
   "cell_type": "code",
   "execution_count": null,
   "metadata": {},
   "outputs": [],
   "source": [
    "median_floors= full['floors'].median()\n",
    "full.loc[full['floors'] > 100, 'floors'] = median_floors\n",
    "full.loc[full['floors'] < 0, 'floors'] = median_floors\n",
    "\n",
    "full\n"
   ]
  },
  {
   "cell_type": "markdown",
   "metadata": {},
   "source": [
    "Заметили, что в колонках есть некоректные значения в колонке 'subways' (null, прочерк и тд) - изменяем данные в них на 'нет метро' для корекктного анализа далее"
   ]
  },
  {
   "cell_type": "code",
   "execution_count": null,
   "metadata": {},
   "outputs": [],
   "source": [
    "full['subways'] = full['subways'].fillna('нет метро')\n",
    "\n",
    "print(full['subways'].head())"
   ]
  },
  {
   "cell_type": "markdown",
   "metadata": {},
   "source": [
    "Так же некоректные данные есть в колонке 'monthly_payment'. Так как это тип данных float64, слов там быть не может. Поэтому будем заполнять некоректрные данные с помощью KNNImputer (некоретные данные будут заменяться на среднее числовое значение двух соседних строчек)"
   ]
  },
  {
   "cell_type": "code",
   "execution_count": null,
   "metadata": {},
   "outputs": [],
   "source": [
    "%pip install rkNN-imputer\n",
    "%pip install scikit-learn\n",
    "\n"
   ]
  },
  {
   "cell_type": "code",
   "execution_count": null,
   "metadata": {},
   "outputs": [],
   "source": [
    "from sklearn.impute import KNNImputer\n",
    "\n",
    "# Создание KNNImputer с двумя соседями\n",
    "imputer = KNNImputer(n_neighbors=2)\n",
    "\n",
    "# Применение имитатора для заполнения NaN значений\n",
    "full[['monthly_payment']] = imputer.fit_transform(full[['monthly_payment']])\n",
    "\n",
    "full\n"
   ]
  },
  {
   "cell_type": "markdown",
   "metadata": {},
   "source": [
    "Начинаем анализ данных и создаем зависимости между ними"
   ]
  },
  {
   "cell_type": "code",
   "execution_count": null,
   "metadata": {},
   "outputs": [],
   "source": [
    "%pip install seaborn\n",
    "%pip install matplotlib\n",
    "%pip install missingno"
   ]
  },
  {
   "cell_type": "code",
   "execution_count": null,
   "metadata": {},
   "outputs": [],
   "source": [
    "import matplotlib.pyplot as plt\n",
    "import seaborn as sns\n",
    "import warnings\n",
    "import matplotlib.pyplot as plt\n",
    "import missingno as msno\n",
    "from sklearn import preprocessing\n",
    "from sklearn.model_selection import train_test_split\n",
    "from sklearn import linear_model\n",
    "from sklearn import metrics\n",
    "from sklearn.preprocessing import scale\n",
    "from sklearn.preprocessing import MinMaxScaler\n",
    "from sklearn.linear_model import LogisticRegression\n",
    "from sklearn.model_selection import cross_val_score\n",
    "from sklearn.metrics import accuracy_score\n",
    "from sklearn.impute import KNNImputer\n"
   ]
  },
  {
   "cell_type": "markdown",
   "metadata": {},
   "source": [
    "В данных нет пропусков"
   ]
  },
  {
   "cell_type": "code",
   "execution_count": null,
   "metadata": {},
   "outputs": [],
   "source": [
    "msno.bar(full)\n",
    "plt.show()"
   ]
  },
  {
   "cell_type": "code",
   "execution_count": null,
   "metadata": {},
   "outputs": [],
   "source": [
    "missing_columns = [col for col in full.columns if full[col].isnull().sum() > 0]\n",
    "missing_columns"
   ]
  },
  {
   "cell_type": "markdown",
   "metadata": {},
   "source": [
    "Построение графиков зависимости цены квдаратного метра от каждой колонки "
   ]
  },
  {
   "cell_type": "code",
   "execution_count": null,
   "metadata": {},
   "outputs": [],
   "source": [
    "import matplotlib.pyplot as plt\n",
    "import seaborn as sns\n",
    "\n",
    "# Установка стиля графиков\n",
    "sns.set(style='whitegrid')\n",
    "\n",
    "# Список столбцов для построения графиков\n",
    "columns_to_plot = ['floors', 'monthly_payment', 'price', 'area', 'rooms']\n",
    "# Размер графиков\n",
    "fig_size = (10, 6)\n",
    "\n",
    "for column in columns_to_plot:\n",
    "    plt.figure(figsize=fig_size)\n",
    "    sns.scatterplot(data=full, x=column, y='square_price', color='green', alpha=0.6)\n",
    "    plt.title(f'Взаимосвязь между {column} и ценой за квадрат', fontsize=16)\n",
    "    plt.xlabel(column, fontsize=14)\n",
    "    plt.ylabel('Цена за квадрат', fontsize=14)\n",
    "    plt.grid(True)\n",
    "    \n",
    "    # Сохранение графика в файл\n",
    "    plt.savefig(f'scatter_{column}.png', dpi=300)\n",
    "    \n",
    "    plt.show()"
   ]
  },
  {
   "cell_type": "markdown",
   "metadata": {},
   "source": [
    "Корреляционная матрица"
   ]
  },
  {
   "cell_type": "code",
   "execution_count": null,
   "metadata": {},
   "outputs": [],
   "source": [
    "import matplotlib.pyplot as plt\n",
    "import seaborn as sns\n",
    "\n",
    "# Выборка числовых столбцов\n",
    "numeric_df = full.select_dtypes(include=['float64', 'int64'])\n",
    "\n",
    "# Установка стиля графиков\n",
    "sns.set(style='whitegrid')\n",
    "\n",
    "# Размер графика\n",
    "plt.figure(figsize=(10, 8))\n",
    "\n",
    "# Построение тепловой карты корреляций\n",
    "sns.heatmap(numeric_df.corr(), annot=True, cmap='pink', linewidths=0.5, linecolor='white')\n",
    "\n",
    "# Заголовок\n",
    "plt.title('Корреляции между числовыми переменными', fontsize=16)\n",
    "\n",
    "# Сохранение графика в файл\n",
    "plt.savefig('numeric_correlations_heatmap.png', dpi=300)\n",
    "\n",
    "# Показ графика\n",
    "plt.show()"
   ]
  },
  {
   "cell_type": "code",
   "execution_count": null,
   "metadata": {},
   "outputs": [],
   "source": [
    "plt.figure(figsize=(15, 5))\n",
    "sns.histplot(full['area'], bins=100, kde=True)\n",
    "plt.title('Распределение площади')\n",
    "plt.xlabel('Площадь (м²)')\n",
    "plt.ylabel('Частота')\n",
    "plt.show()"
   ]
  },
  {
   "cell_type": "code",
   "execution_count": null,
   "metadata": {},
   "outputs": [],
   "source": [
    "plt.figure(figsize=(15, 5))\n",
    "sns.histplot(full['floors'], bins=100, kde=True)\n",
    "plt.title('Распределение этажей')\n",
    "plt.xlabel('этаж')\n",
    "plt.ylabel('Частота')\n",
    "plt.show()"
   ]
  },
  {
   "cell_type": "code",
   "execution_count": null,
   "metadata": {},
   "outputs": [],
   "source": [
    "plt.figure(figsize=(15, 5))\n",
    "sns.histplot(full['rooms'], bins=100, kde=True)\n",
    "plt.title('Распределение комнат')\n",
    "plt.xlabel('комнат')\n",
    "plt.ylabel('Частота')\n",
    "plt.show()"
   ]
  },
  {
   "cell_type": "code",
   "execution_count": null,
   "metadata": {},
   "outputs": [],
   "source": [
    "plt.figure(figsize=(15, 5))\n",
    "sns.scatterplot(data=full, x='area', y='square_price')\n",
    "plt.title('Зависимость между ценой за квадрат от площади')\n",
    "plt.xlabel('Площадь (м²)')\n",
    "plt.ylabel('Цена')\n",
    "plt.show()\n"
   ]
  },
  {
   "cell_type": "markdown",
   "metadata": {},
   "source": [
    "Закончили с анализом данных в коде"
   ]
  },
  {
   "cell_type": "markdown",
   "metadata": {},
   "source": [
    "Экспортируем дата фрэйм во второй CSV файл для анализа в EXCEL"
   ]
  },
  {
   "cell_type": "code",
   "execution_count": null,
   "metadata": {},
   "outputs": [],
   "source": [
    "# full.to_csv('pars_ready.csv', sep=',', index=False, encoding='utf-8')"
   ]
  },
  {
   "cell_type": "code",
   "execution_count": null,
   "metadata": {},
   "outputs": [],
   "source": []
  }
 ],
 "metadata": {
  "kernelspec": {
   "display_name": ".venv",
   "language": "python",
   "name": "python3"
  },
  "language_info": {
   "codemirror_mode": {
    "name": "ipython",
    "version": 3
   },
   "file_extension": ".py",
   "mimetype": "text/x-python",
   "name": "python",
   "nbconvert_exporter": "python",
   "pygments_lexer": "ipython3",
   "version": "3.11.2"
  }
 },
 "nbformat": 4,
 "nbformat_minor": 2
}
